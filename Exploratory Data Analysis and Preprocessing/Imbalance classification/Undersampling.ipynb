{
 "cells": [
  {
   "cell_type": "markdown",
   "id": "taken-external",
   "metadata": {},
   "source": [
    "# Undersampling Algorithms for Imbalanced Classification\n",
    "\n",
    "Resampling methods are designed to change the composition of a training dataset for an imbalanced classification task.\n",
    "Most of the attention of resampling methods for imbalanced classification is put on oversampling the minority class. Nevertheless, a suite of techniques has been developed for undersampling the majority class that can be used in conjunction with effective oversampling methods.\n",
    "\n",
    "- Undersampling refers to a group of techniques designed to balance the class distribution for a classification dataset that has a skewed class distribution. \n",
    "- An imbalanced class distribution will have one or more classes with few examples (the minority classes) and one or more classes with many examples (the majority classes).\n",
    "- Undersampling techniques remove examples from the training dataset that belong to the majority class in order to better balance the class distribution, such as reducing the skew from a 1:100 to a 1:10, 1:2, or even a 1:1 class distribution. This is different from oversampling that involves adding examples to the minority class in an effort to reduce the skew in the class distribution.\n",
    "- Undersampling methods can be used directly on a training dataset that can then, in turn, be used to fit a machine learning model. \n",
    "- Typically, undersampling methods are used in conjunction with an oversampling technique for the minority class, and this combination often results in better performance than using oversampling or undersampling alone on the training dataset.\n",
    "\n",
    "There are many undersampling techniques. In the following sections, we will review some of the more common methods."
   ]
  },
  {
   "cell_type": "markdown",
   "id": "diverse-black",
   "metadata": {},
   "source": [
    "## Creating an Imbalance Dataset\n",
    "\n",
    "We can define a synthetic binary classification dataset using the `make_classification()` function from the `scikit-learn` library. For example, we can create 10,000 examples with two input variables and a 1:100 distribution as follows."
   ]
  },
  {
   "cell_type": "markdown",
   "id": "viral-field",
   "metadata": {},
   "source": [
    "### imports"
   ]
  },
  {
   "cell_type": "code",
   "execution_count": 1,
   "id": "ecological-throat",
   "metadata": {},
   "outputs": [],
   "source": [
    "from collections import Counter\n",
    "from sklearn.datasets import make_classification\n",
    "from matplotlib import pyplot\n",
    "from numpy import where"
   ]
  },
  {
   "cell_type": "markdown",
   "id": "little-stanford",
   "metadata": {},
   "source": [
    "### define dataset"
   ]
  },
  {
   "cell_type": "code",
   "execution_count": 2,
   "id": "first-teddy",
   "metadata": {},
   "outputs": [],
   "source": [
    "X, y = make_classification(n_samples=10000, n_features=2, n_redundant=0,\n",
    "                                    n_clusters_per_class=1, weights=[0.99], flip_y=0, random_state=1)"
   ]
  },
  {
   "cell_type": "markdown",
   "id": "fundamental-sodium",
   "metadata": {},
   "source": [
    "### summarize class distribution"
   ]
  },
  {
   "cell_type": "code",
   "execution_count": 3,
   "id": "distinct-kruger",
   "metadata": {},
   "outputs": [
    {
     "name": "stdout",
     "output_type": "stream",
     "text": [
      "Counter({0: 9900, 1: 100})\n"
     ]
    }
   ],
   "source": [
    "counter = Counter(y)\n",
    "print(counter)"
   ]
  },
  {
   "cell_type": "markdown",
   "id": "capable-abraham",
   "metadata": {},
   "source": [
    "### scatter plot of examples by class label"
   ]
  },
  {
   "cell_type": "code",
   "execution_count": 4,
   "id": "express-hello",
   "metadata": {},
   "outputs": [
    {
     "data": {
      "image/png": "[encoded data removed]",
      "text/plain": [
       "<Figure size 432x288 with 1 Axes>"
      ]
     },
     "metadata": {
      "needs_background": "light"
     },
     "output_type": "display_data"
    }
   ],
   "source": [
    "import matplotlib.pyplot as plt\n",
    "\n",
    "for label, _ in counter.items():\n",
    "    row_ix = where(y == label)[0]\n",
    "    plt.scatter(X[row_ix, 0], X[row_ix, 1], label=str(label))\n",
    "plt.legend()\n",
    "plt.show()"
   ]
  },
  {
   "cell_type": "markdown",
   "id": "accepted-stage",
   "metadata": {},
   "source": [
    "## Random Undersampling\n",
    "\n",
    "Although simple and effective, a limitation of this technique is that examples are removed without any concern for how useful or important they might be in determining the decision boundary between the classes. This means it is possible, or even likely, that useful information will be deleted.\n",
    "\n",
    "> *The major drawback of random undersampling is that this method can discard potentially useful data that could be important for the induction process. The removal of data is a critical decision to be made, hence many the proposal of undersampling use heuristics in order to overcome the limitations of the non- heuristics decisions.*"
   ]
  },
  {
   "cell_type": "markdown",
   "id": "laden-cisco",
   "metadata": {},
   "source": [
    "## 1. Methods that Select Examples to Keep\n",
    "\n",
    "In this section, we will take a closer look at two methods that choose which examples from the majority class to keep, the **near-miss** family of methods, and the popular **condensed nearest neighbor rule**."
   ]
  },
  {
   "cell_type": "markdown",
   "id": "strange-consent",
   "metadata": {},
   "source": [
    "### 1.1 Near Miss Undersampling\n",
    "\n",
    "Near Miss refers to a collection of undersampling methods that select examples based on the distance of majority class examples to minority class examples.\n",
    "\n",
    "There are three versions of the technique, named NearMiss-1, NearMiss-2, and NearMiss-3.\n",
    "\n",
    "**NearMiss-1** selects examples from the majority class that have the smallest average distance to the three closest examples from the minority class. **NearMiss-2** selects examples from the majority class that have the smallest average distance to the three furthest examples from the minority class. **NearMiss-3** involves selecting a given number of majority class examples for each example in the minority class that are closest.\n",
    "\n",
    "Here, distance is determined in feature space using Euclidean distance or similar.\n",
    "\n",
    "- NearMiss-1: Majority class examples with minimum average distance to three closest minority class examples.\n",
    "- NearMiss-2: Majority class examples with minimum average distance to three furthest minority class examples.\n",
    "- NearMiss-3: Majority class examples with minimum distance to each minority class example.\n",
    "\n",
    "The NearMiss-3 seems desirable, given that it will only keep those majority class examples that are on the decision boundary.\n",
    "\n",
    "We can implement the Near Miss methods using the `NearMiss` imbalanced-learn class.\n",
    "\n",
    "The type of near-miss strategy used is defined by the “version” argument, which by default is set to 1 for NearMiss-1, but can be set to 2 or 3 for the other two methods."
   ]
  },
  {
   "cell_type": "markdown",
   "id": "substantial-aurora",
   "metadata": {},
   "source": [
    "### NearMiss-1"
   ]
  },
  {
   "cell_type": "code",
   "execution_count": 18,
   "id": "relevant-singer",
   "metadata": {},
   "outputs": [
    {
     "name": "stdout",
     "output_type": "stream",
     "text": [
      "Counter({0: 9900, 1: 100})\n"
     ]
    }
   ],
   "source": [
    "# define dataset\n",
    "X, y = make_classification(n_samples=10000, n_features=2, n_redundant=0,\n",
    "    n_clusters_per_class=1, weights=[0.99], flip_y=0, random_state=1)\n",
    "# summarize class distribution\n",
    "counter = Counter(y)\n",
    "print(counter)"
   ]
  },
  {
   "cell_type": "markdown",
   "id": "colored-congress",
   "metadata": {},
   "source": [
    "#### define the undersampling method"
   ]
  },
  {
   "cell_type": "code",
   "execution_count": 19,
   "id": "global-australia",
   "metadata": {},
   "outputs": [],
   "source": [
    "from imblearn.under_sampling import NearMiss\n",
    "\n",
    "undersample = NearMiss(version=1, n_neighbors=3)"
   ]
  },
  {
   "cell_type": "markdown",
   "id": "completed-compression",
   "metadata": {},
   "source": [
    "#### transform the dataset"
   ]
  },
  {
   "cell_type": "code",
   "execution_count": 20,
   "id": "scenic-straight",
   "metadata": {},
   "outputs": [],
   "source": [
    "X, y = undersample.fit_resample(X, y)"
   ]
  },
  {
   "cell_type": "markdown",
   "id": "still-dispatch",
   "metadata": {},
   "source": [
    "#### summarize the new class distribution"
   ]
  },
  {
   "cell_type": "code",
   "execution_count": 21,
   "id": "periodic-james",
   "metadata": {},
   "outputs": [
    {
     "name": "stdout",
     "output_type": "stream",
     "text": [
      "Counter({0: 100, 1: 100})\n"
     ]
    }
   ],
   "source": [
    "counter = Counter(y)\n",
    "print(counter)"
   ]
  },
  {
   "cell_type": "markdown",
   "id": "adult-business",
   "metadata": {},
   "source": [
    "#### scatter plot of examples by class label"
   ]
  },
  {
   "cell_type": "code",
   "execution_count": 23,
   "id": "outdoor-somalia",
   "metadata": {},
   "outputs": [
    {
     "data": {
      "image/png": "[encoded data removed]",
      "text/plain": [
       "<Figure size 432x288 with 1 Axes>"
      ]
     },
     "metadata": {
      "needs_background": "light"
     },
     "output_type": "display_data"
    }
   ],
   "source": [
    "for label, _ in counter.items():\n",
    "    row_ix = where(y == label)[0]\n",
    "    pyplot.scatter(X[row_ix, 0], X[row_ix, 1], label=str(label))\n",
    "pyplot.legend()\n",
    "pyplot.show()"
   ]
  },
  {
   "cell_type": "markdown",
   "id": "important-slovakia",
   "metadata": {},
   "source": [
    "We can see that, as expected, only those examples in the majority class that are closest to the minority class examples in the overlapping area were retained."
   ]
  },
  {
   "cell_type": "markdown",
   "id": "tracked-rapid",
   "metadata": {},
   "source": [
    "### NearMiss-2\n",
    "\n",
    "Next, we can demonstrate the NearMiss-2 strategy, which is an inverse to NearMiss-1. It selects examples that are closest to the most distant examples from the minority class, defined by the n_neighbors argument."
   ]
  },
  {
   "cell_type": "code",
   "execution_count": 24,
   "id": "particular-organ",
   "metadata": {},
   "outputs": [
    {
     "name": "stdout",
     "output_type": "stream",
     "text": [
      "Counter({0: 9900, 1: 100})\n"
     ]
    }
   ],
   "source": [
    "# define dataset\n",
    "X, y = make_classification(n_samples=10000, n_features=2, n_redundant=0,\n",
    "    n_clusters_per_class=1, weights=[0.99], flip_y=0, random_state=1)\n",
    "# summarize class distribution\n",
    "counter = Counter(y)\n",
    "print(counter)"
   ]
  },
  {
   "cell_type": "markdown",
   "id": "according-privacy",
   "metadata": {},
   "source": [
    "#### define the undersampling method"
   ]
  },
  {
   "cell_type": "code",
   "execution_count": 25,
   "id": "understanding-excellence",
   "metadata": {},
   "outputs": [],
   "source": [
    "undersample = NearMiss(version=2, n_neighbors=3)"
   ]
  },
  {
   "cell_type": "markdown",
   "id": "opened-consent",
   "metadata": {},
   "source": [
    "#### transform the dataset"
   ]
  },
  {
   "cell_type": "code",
   "execution_count": 26,
   "id": "objective-issue",
   "metadata": {},
   "outputs": [],
   "source": [
    "X, y = undersample.fit_resample(X, y)"
   ]
  },
  {
   "cell_type": "markdown",
   "id": "express-strand",
   "metadata": {},
   "source": [
    "#### summarize the new class distribution"
   ]
  },
  {
   "cell_type": "code",
   "execution_count": 27,
   "id": "checked-formula",
   "metadata": {},
   "outputs": [
    {
     "name": "stdout",
     "output_type": "stream",
     "text": [
      "Counter({0: 100, 1: 100})\n"
     ]
    }
   ],
   "source": [
    "counter = Counter(y)\n",
    "print(counter)"
   ]
  },
  {
   "cell_type": "markdown",
   "id": "unlike-episode",
   "metadata": {},
   "source": [
    "#### scatter plot of examples by class label"
   ]
  },
  {
   "cell_type": "code",
   "execution_count": 28,
   "id": "driven-profile",
   "metadata": {},
   "outputs": [
    {
     "data": {
      "image/png": "[encoded data removed]",
      "text/plain": [
       "<Figure size 432x288 with 1 Axes>"
      ]
     },
     "metadata": {
      "needs_background": "light"
     },
     "output_type": "display_data"
    }
   ],
   "source": [
    "for label, _ in counter.items():\n",
    "    row_ix = where(y == label)[0]\n",
    "    pyplot.scatter(X[row_ix, 0], X[row_ix, 1], label=str(label))\n",
    "pyplot.legend()\n",
    "pyplot.show()"
   ]
  },
  {
   "cell_type": "markdown",
   "id": "known-nickname",
   "metadata": {},
   "source": [
    "Running the example, we can see that the NearMiss-2 selects examples that appear to be in the center of mass for the overlap between the two classes."
   ]
  },
  {
   "cell_type": "markdown",
   "id": "waiting-emergency",
   "metadata": {},
   "source": [
    "### NearMiss-3\n",
    "\n",
    "Finally, we can try NearMiss-3 that selects the closest examples from the majority class for each minority class.\n",
    "\n",
    "The n_neighbors_ver3 argument determines the number of examples to select for each minority example, although the desired balancing ratio set via sampling_strategy will filter this so that the desired balance is achieved."
   ]
  },
  {
   "cell_type": "code",
   "execution_count": 29,
   "id": "demographic-store",
   "metadata": {},
   "outputs": [
    {
     "name": "stdout",
     "output_type": "stream",
     "text": [
      "Counter({0: 9900, 1: 100})\n"
     ]
    }
   ],
   "source": [
    "# define dataset\n",
    "X, y = make_classification(n_samples=10000, n_features=2, n_redundant=0,\n",
    "    n_clusters_per_class=1, weights=[0.99], flip_y=0, random_state=1)\n",
    "# summarize class distribution\n",
    "counter = Counter(y)\n",
    "print(counter)"
   ]
  },
  {
   "cell_type": "markdown",
   "id": "polish-andrews",
   "metadata": {},
   "source": [
    "#### define the undersampling method"
   ]
  },
  {
   "cell_type": "code",
   "execution_count": 30,
   "id": "dietary-native",
   "metadata": {},
   "outputs": [],
   "source": [
    "undersample = NearMiss(version=3, n_neighbors_ver3=3)"
   ]
  },
  {
   "cell_type": "markdown",
   "id": "prescribed-stereo",
   "metadata": {},
   "source": [
    "#### transform the dataset"
   ]
  },
  {
   "cell_type": "code",
   "execution_count": 31,
   "id": "spatial-million",
   "metadata": {},
   "outputs": [],
   "source": [
    "X, y = undersample.fit_resample(X, y)"
   ]
  },
  {
   "cell_type": "markdown",
   "id": "amended-singer",
   "metadata": {},
   "source": [
    "#### summarize the new class distribution"
   ]
  },
  {
   "cell_type": "code",
   "execution_count": 32,
   "id": "included-wrist",
   "metadata": {},
   "outputs": [
    {
     "name": "stdout",
     "output_type": "stream",
     "text": [
      "Counter({0: 100, 1: 100})\n"
     ]
    }
   ],
   "source": [
    "counter = Counter(y)\n",
    "print(counter)"
   ]
  },
  {
   "cell_type": "markdown",
   "id": "champion-temple",
   "metadata": {},
   "source": [
    "#### scatter plot of examples by class label"
   ]
  },
  {
   "cell_type": "code",
   "execution_count": 33,
   "id": "endless-spending",
   "metadata": {},
   "outputs": [
    {
     "data": {
      "image/png": "[encoded data removed]",
      "text/plain": [
       "<Figure size 432x288 with 1 Axes>"
      ]
     },
     "metadata": {
      "needs_background": "light"
     },
     "output_type": "display_data"
    }
   ],
   "source": [
    "for label, _ in counter.items():\n",
    "    row_ix = where(y == label)[0]\n",
    "    pyplot.scatter(X[row_ix, 0], X[row_ix, 1], label=str(label))\n",
    "pyplot.legend()\n",
    "pyplot.show()"
   ]
  },
  {
   "cell_type": "markdown",
   "id": "monthly-yahoo",
   "metadata": {},
   "source": [
    "### 1.2 Condensed Nearest Neighbor Rule Undersampling\n",
    "\n",
    "Condensed Nearest Neighbors, or CNN for short, is an undersampling technique that seeks a subset of a collection of samples that results in no loss in model performance, referred to as a minimal consistent set.\n",
    "\n",
    "> *… the notion of a consistent subset of a sample set. This is a subset which, when used as a stored reference set for the NN rule, correctly classifies all of the remaining points in the sample set.*\n",
    "\n",
    "It is achieved by enumerating the examples in the dataset and adding them to the “store” only if they cannot be classified correctly by the current contents of the store. \n",
    "\n",
    "When used for imbalanced classification, the store is comprised of all examples in the minority set and only examples from the majority set that cannot be classified correctly are added incrementally to the store."
   ]
  },
  {
   "cell_type": "code",
   "execution_count": 34,
   "id": "exclusive-production",
   "metadata": {},
   "outputs": [
    {
     "name": "stdout",
     "output_type": "stream",
     "text": [
      "Counter({0: 9900, 1: 100})\n"
     ]
    }
   ],
   "source": [
    "# define dataset\n",
    "X, y = make_classification(n_samples=10000, n_features=2, n_redundant=0,\n",
    "    n_clusters_per_class=1, weights=[0.99], flip_y=0, random_state=1)\n",
    "# summarize class distribution\n",
    "counter = Counter(y)\n",
    "print(counter)"
   ]
  },
  {
   "cell_type": "markdown",
   "id": "steady-contributor",
   "metadata": {},
   "source": [
    "#### define the undersampling method"
   ]
  },
  {
   "cell_type": "code",
   "execution_count": 36,
   "id": "dietary-rapid",
   "metadata": {},
   "outputs": [],
   "source": [
    "from imblearn.under_sampling import CondensedNearestNeighbour\n",
    "\n",
    "undersample = CondensedNearestNeighbour(n_neighbors=1)"
   ]
  },
  {
   "cell_type": "markdown",
   "id": "infinite-thirty",
   "metadata": {},
   "source": [
    "#### transform the dataset"
   ]
  },
  {
   "cell_type": "code",
   "execution_count": 37,
   "id": "premier-multimedia",
   "metadata": {},
   "outputs": [],
   "source": [
    "X, y = undersample.fit_resample(X, y)"
   ]
  },
  {
   "cell_type": "markdown",
   "id": "searching-korea",
   "metadata": {},
   "source": [
    "#### summarize the new class distribution"
   ]
  },
  {
   "cell_type": "code",
   "execution_count": 38,
   "id": "superior-prescription",
   "metadata": {},
   "outputs": [
    {
     "name": "stdout",
     "output_type": "stream",
     "text": [
      "Counter({0: 189, 1: 100})\n"
     ]
    }
   ],
   "source": [
    "counter = Counter(y)\n",
    "print(counter)"
   ]
  },
  {
   "cell_type": "markdown",
   "id": "vertical-progressive",
   "metadata": {},
   "source": [
    "#### scatter plot of examples by class label"
   ]
  },
  {
   "cell_type": "code",
   "execution_count": 39,
   "id": "tribal-external",
   "metadata": {},
   "outputs": [
    {
     "data": {
      "image/png": "[encoded data removed]",
      "text/plain": [
       "<Figure size 432x288 with 1 Axes>"
      ]
     },
     "metadata": {
      "needs_background": "light"
     },
     "output_type": "display_data"
    }
   ],
   "source": [
    "for label, _ in counter.items():\n",
    "    row_ix = where(y == label)[0]\n",
    "    pyplot.scatter(X[row_ix, 0], X[row_ix, 1], label=str(label))\n",
    "pyplot.legend()\n",
    "pyplot.show()"
   ]
  },
  {
   "cell_type": "markdown",
   "id": "sorted-energy",
   "metadata": {},
   "source": [
    "Running the example first reports the skewed distribution of the raw dataset, then the more balanced distribution for the transformed dataset.\n",
    "\n",
    "We can see that the resulting distribution is about 1:2 minority to majority examples. This highlights that although the sampling_strategy argument seeks to balance the class distribution, the algorithm will continue to add misclassified examples to the store (transformed dataset). This is a desirable property."
   ]
  },
  {
   "cell_type": "markdown",
   "id": "based-murder",
   "metadata": {},
   "source": [
    "## 2. Methods that Select Examples to Delete\n",
    "\n",
    "In this section, we will take a closer look at methods that select examples from the majority class to delete, including the popular Tomek Links method and the Edited Nearest Neighbors rule."
   ]
  },
  {
   "cell_type": "markdown",
   "id": "statewide-consumer",
   "metadata": {},
   "source": [
    "### 2.1 Tomek Links for Undersampling\n",
    "\n",
    "A criticism of the Condensed Nearest Neighbor Rule is that examples are selected randomly, especially initially.\n",
    "\n",
    "This has the effect of allowing redundant examples into the store and in allowing examples that are internal to the mass of the distribution, rather than on the class boundary, into the store.\n",
    "\n",
    "> The condensed nearest-neighbor (CNN) method chooses samples randomly. This results in a)retention of unnecessary samples and b) occasional retention of internal rather than boundary samples.\n",
    "\n",
    "One of the modifications (Method2) is a rule that finds pairs of examples, one from each class; they together have the smallest Euclidean distance to each other in feature space.\n",
    "\n",
    "This means that in a binary classification problem with classes 0 and 1, a pair would have an example from each class and would be closest neighbors across the dataset.\n",
    "\n",
    "> In words, instances a and b define a Tomek Link if: (i) instance a’s nearest neighbor is b, (ii) instance b’s nearest neighbor is a, and (iii) instances a and b belong to different classes.\n",
    "\n",
    "These cross-class pairs are now generally referred to as “Tomek Links” and are valuable as they define the class boundary.\n",
    "\n",
    "> Method 2 has another potentially important property: It finds pairs of boundary points which participate in the formation of the (piecewise-linear) boundary. […] Such methods could use these pairs to generate progressively simpler descriptions of acceptably accurate approximations of the original completely specified boundaries.\n",
    "\n",
    "The procedure for finding Tomek Links can be used to locate all cross-class nearest neighbors. If the examples in the minority class are held constant, the procedure can be used to find all of those examples in the majority class that are closest to the minority class, then removed. These would be the ambiguous examples.\n",
    "\n",
    "> From this definition, we see that instances that are in Tomek Links are either boundary instances or noisy instances. This is due to the fact that only boundary instances and noisy instances will have nearest neighbors, which are from the opposite class."
   ]
  },
  {
   "cell_type": "code",
   "execution_count": 40,
   "id": "signal-haven",
   "metadata": {},
   "outputs": [
    {
     "name": "stdout",
     "output_type": "stream",
     "text": [
      "Counter({0: 9900, 1: 100})\n"
     ]
    }
   ],
   "source": [
    "# define dataset\n",
    "X, y = make_classification(n_samples=10000, n_features=2, n_redundant=0,\n",
    "    n_clusters_per_class=1, weights=[0.99], flip_y=0, random_state=1)\n",
    "# summarize class distribution\n",
    "counter = Counter(y)\n",
    "print(counter)"
   ]
  },
  {
   "cell_type": "markdown",
   "id": "minute-commonwealth",
   "metadata": {},
   "source": [
    "#### define the undersampling method"
   ]
  },
  {
   "cell_type": "code",
   "execution_count": 41,
   "id": "suspended-regulation",
   "metadata": {},
   "outputs": [],
   "source": [
    "from imblearn.under_sampling import TomekLinks\n",
    "\n",
    "undersample = TomekLinks()"
   ]
  },
  {
   "cell_type": "markdown",
   "id": "dental-orchestra",
   "metadata": {},
   "source": [
    "#### transform the dataset"
   ]
  },
  {
   "cell_type": "code",
   "execution_count": 42,
   "id": "hairy-collapse",
   "metadata": {},
   "outputs": [],
   "source": [
    "X, y = undersample.fit_resample(X, y)"
   ]
  },
  {
   "cell_type": "markdown",
   "id": "objective-values",
   "metadata": {},
   "source": [
    "#### summarize the new class distribution"
   ]
  },
  {
   "cell_type": "code",
   "execution_count": 43,
   "id": "further-trinidad",
   "metadata": {},
   "outputs": [
    {
     "name": "stdout",
     "output_type": "stream",
     "text": [
      "Counter({0: 9874, 1: 100})\n"
     ]
    }
   ],
   "source": [
    "counter = Counter(y)\n",
    "print(counter)"
   ]
  },
  {
   "cell_type": "markdown",
   "id": "closing-endorsement",
   "metadata": {},
   "source": [
    "#### scatter plot of examples by class label"
   ]
  },
  {
   "cell_type": "code",
   "execution_count": 44,
   "id": "revised-patrol",
   "metadata": {},
   "outputs": [
    {
     "data": {
      "image/png": "[encoded data removed]",
      "text/plain": [
       "<Figure size 432x288 with 1 Axes>"
      ]
     },
     "metadata": {
      "needs_background": "light"
     },
     "output_type": "display_data"
    }
   ],
   "source": [
    "for label, _ in counter.items():\n",
    "    row_ix = where(y == label)[0]\n",
    "    pyplot.scatter(X[row_ix, 0], X[row_ix, 1], label=str(label))\n",
    "pyplot.legend()\n",
    "pyplot.show()"
   ]
  },
  {
   "cell_type": "markdown",
   "id": "educational-drain",
   "metadata": {},
   "source": [
    "We can see that only 26 examples from the majority class were removed.\n",
    "\n",
    "This highlights that although finding the ambiguous examples on the class boundary is useful, alone, it is not a great undersampling technique. In practice, the Tomek Links procedure is often combined with other methods, such as the Condensed Nearest Neighbor Rule.\n",
    "\n",
    "> The choice to combine Tomek Links and CNN is natural, as Tomek Links can be said to remove borderline and noisy instances, while CNN removes redundant instances."
   ]
  },
  {
   "cell_type": "markdown",
   "id": "transparent-format",
   "metadata": {},
   "source": [
    "### 2.2 Edited Nearest Neighbors Rule for Undersampling\n",
    "\n",
    "Another rule for finding ambiguous and noisy examples in a dataset is called Edited Nearest Neighbors, or sometimes ENN for short.\n",
    "\n",
    "This rule involves using k=3 nearest neighbors to locate those examples in a dataset that are misclassified and that are then removed before a k=1 classification rule is applied.\n",
    "\n",
    "> The modified three-nearest neighbor rule which uses the three-nearest neighbor rule to edit the preclassified samples and then uses a single-nearest neighbor rule to make decisions is a particularly attractive rule.\n",
    "\n",
    "When used as an undersampling procedure, the rule can be applied to each example in the majority class, allowing those examples that are misclassified as belonging to the minority class to be removed, and those correctly classified to remain.\n",
    "\n",
    "It is also applied to each example in the minority class where those examples that are misclassified have their nearest neighbors from the majority class deleted.\n",
    "\n",
    "> … for each instance a in the dataset, its three nearest neighbors are computed. If a is a majority class instance and is misclassified by its three nearest neighbors, then a is removed from the dataset. Alternatively, if a is a minority class instance and is misclassified by its three nearest neighbors, then the majority class instances among a’s neighbors are removed.\n",
    "\n",
    "The n_neighbors argument controls the number of neighbors to use in the editing rule, which defaults to three."
   ]
  },
  {
   "cell_type": "code",
   "execution_count": 46,
   "id": "printable-junction",
   "metadata": {},
   "outputs": [
    {
     "name": "stdout",
     "output_type": "stream",
     "text": [
      "Counter({0: 9900, 1: 100})\n"
     ]
    }
   ],
   "source": [
    "# define dataset\n",
    "X, y = make_classification(n_samples=10000, n_features=2, n_redundant=0,\n",
    "    n_clusters_per_class=1, weights=[0.99], flip_y=0, random_state=1)\n",
    "# summarize class distribution\n",
    "counter = Counter(y)\n",
    "print(counter)"
   ]
  },
  {
   "cell_type": "markdown",
   "id": "internal-avenue",
   "metadata": {},
   "source": [
    "#### define the undersampling method"
   ]
  },
  {
   "cell_type": "code",
   "execution_count": 47,
   "id": "tired-angel",
   "metadata": {},
   "outputs": [],
   "source": [
    "from imblearn.under_sampling import EditedNearestNeighbours\n",
    "\n",
    "undersample = EditedNearestNeighbours(n_neighbors=3)"
   ]
  },
  {
   "cell_type": "markdown",
   "id": "liquid-technician",
   "metadata": {},
   "source": [
    "#### transform the dataset"
   ]
  },
  {
   "cell_type": "code",
   "execution_count": 49,
   "id": "latter-television",
   "metadata": {},
   "outputs": [],
   "source": [
    "X, y = undersample.fit_resample(X, y)"
   ]
  },
  {
   "cell_type": "markdown",
   "id": "hundred-panel",
   "metadata": {},
   "source": [
    "#### summarize the new class distribution"
   ]
  },
  {
   "cell_type": "code",
   "execution_count": 50,
   "id": "funded-humanity",
   "metadata": {},
   "outputs": [
    {
     "name": "stdout",
     "output_type": "stream",
     "text": [
      "Counter({0: 9806, 1: 100})\n"
     ]
    }
   ],
   "source": [
    "counter = Counter(y)\n",
    "print(counter)"
   ]
  },
  {
   "cell_type": "markdown",
   "id": "alpine-chance",
   "metadata": {},
   "source": [
    "#### scatter plot of examples by class label"
   ]
  },
  {
   "cell_type": "code",
   "execution_count": 51,
   "id": "caroline-poster",
   "metadata": {},
   "outputs": [
    {
     "data": {
      "text/plain": [
       "<function matplotlib.pyplot.show(close=None, block=None)>"
      ]
     },
     "execution_count": 51,
     "metadata": {},
     "output_type": "execute_result"
    },
    {
     "data": {
      "image/png": "[encoded data removed]",
      "text/plain": [
       "<Figure size 432x288 with 1 Axes>"
      ]
     },
     "metadata": {
      "needs_background": "light"
     },
     "output_type": "display_data"
    }
   ],
   "source": [
    "for label, _ in counter.items():\n",
    "    row_ix = where(y == label)[0]\n",
    "    pyplot.scatter(X[row_ix, 0], X[row_ix, 1], label=str(label))\n",
    "pyplot.legend()\n",
    "pyplot.show"
   ]
  },
  {
   "cell_type": "markdown",
   "id": "authentic-breach",
   "metadata": {},
   "source": [
    "We can see that only 94 examples from the majority class were removed.\n",
    "\n",
    "Given the small amount of undersampling performed, the change to the mass of majority examples is not obvious from the plot.\n",
    "\n",
    "Also, like Tomek Links, the Edited Nearest Neighbor Rule gives best results when combined with another undersampling method."
   ]
  },
  {
   "cell_type": "markdown",
   "id": "eleven-aviation",
   "metadata": {},
   "source": [
    "## 3. Combinations of Keep and Delete Methods\n",
    "\n",
    "In this section, we will take a closer look at techniques that combine the techniques we have already looked at to both keep and delete examples from the majority class, such as One-Sided Selection and the Neighborhood Cleaning Rule."
   ]
  },
  {
   "cell_type": "markdown",
   "id": "attached-coordinate",
   "metadata": {},
   "source": [
    "### 3.1 One-Sided Selection for Undersampling\n",
    "\n",
    "One-Sided Selection, or OSS for short, is an undersampling technique that combines Tomek Links and the Condensed Nearest Neighbor (CNN) Rule.\n",
    "\n",
    "Specifically, Tomek Links are ambiguous points on the class boundary and are identified and removed in the majority class. The CNN method is then used to remove redundant examples from the majority class that are far from the decision boundary.\n",
    "\n",
    "> OSS is an undersampling method resulting from the application of Tomek links followed by the application of US-CNN. Tomek links are used as an undersampling method and removes noisy and borderline majority class examples. […] US-CNN aims to remove examples from the majority class that are distant from the decision border.\n",
    "\n",
    "The CNN procedure occurs in one-step and involves first adding all minority class examples to the store and some number of majority class examples (e.g. 1), then classifying all remaining majority class examples with KNN (k=1) and adding those that are misclassified to the store.\n",
    "\n",
    "We can implement the OSS undersampling strategy via the `OneSidedSelection` imbalanced-learn class.\n",
    "\n",
    "The number of seed examples can be set with n_seeds_S and defaults to 1 and the k for KNN can be set via the n_neighbors argument and defaults to 1.\n",
    "\n",
    "Given that the CNN procedure occurs in one block, it is more useful to have a larger seed sample of the majority class in order to effectively remove redundant examples. In this case, we will use a value of 200."
   ]
  },
  {
   "cell_type": "code",
   "execution_count": 52,
   "id": "detailed-indie",
   "metadata": {},
   "outputs": [
    {
     "name": "stdout",
     "output_type": "stream",
     "text": [
      "Counter({0: 9900, 1: 100})\n"
     ]
    }
   ],
   "source": [
    "# define dataset\n",
    "X, y = make_classification(n_samples=10000, n_features=2, n_redundant=0,\n",
    "    n_clusters_per_class=1, weights=[0.99], flip_y=0, random_state=1)\n",
    "# summarize class distribution\n",
    "counter = Counter(y)\n",
    "print(counter)"
   ]
  },
  {
   "cell_type": "markdown",
   "id": "regulation-integral",
   "metadata": {},
   "source": [
    "#### define the undersampling method"
   ]
  },
  {
   "cell_type": "code",
   "execution_count": 53,
   "id": "timely-niagara",
   "metadata": {},
   "outputs": [],
   "source": [
    "from imblearn.under_sampling import OneSidedSelection\n",
    "\n",
    "undersample = OneSidedSelection(n_neighbors=1, n_seeds_S=200)"
   ]
  },
  {
   "cell_type": "markdown",
   "id": "diagnostic-ceremony",
   "metadata": {},
   "source": [
    "#### transform the dataset"
   ]
  },
  {
   "cell_type": "code",
   "execution_count": 54,
   "id": "guilty-guest",
   "metadata": {},
   "outputs": [],
   "source": [
    "X, y = undersample.fit_resample(X, y)"
   ]
  },
  {
   "cell_type": "markdown",
   "id": "boring-network",
   "metadata": {},
   "source": [
    "#### summarize the new class distribution"
   ]
  },
  {
   "cell_type": "code",
   "execution_count": 55,
   "id": "bacterial-hometown",
   "metadata": {},
   "outputs": [
    {
     "name": "stdout",
     "output_type": "stream",
     "text": [
      "Counter({0: 1137, 1: 100})\n"
     ]
    }
   ],
   "source": [
    "counter = Counter(y)\n",
    "print(counter)"
   ]
  },
  {
   "cell_type": "markdown",
   "id": "affiliated-interest",
   "metadata": {},
   "source": [
    "#### scatter plot of examples by class label"
   ]
  },
  {
   "cell_type": "code",
   "execution_count": 56,
   "id": "becoming-organ",
   "metadata": {},
   "outputs": [
    {
     "data": {
      "image/png": "[encoded data removed]",
      "text/plain": [
       "<Figure size 432x288 with 1 Axes>"
      ]
     },
     "metadata": {
      "needs_background": "light"
     },
     "output_type": "display_data"
    }
   ],
   "source": [
    "for label, _ in counter.items():\n",
    "    row_ix = where(y == label)[0]\n",
    "    pyplot.scatter(X[row_ix, 0], X[row_ix, 1], label=str(label))\n",
    "pyplot.legend()\n",
    "pyplot.show()"
   ]
  },
  {
   "cell_type": "markdown",
   "id": "turned-antibody",
   "metadata": {},
   "source": [
    "We can see that a large number of examples from the majority class were removed, consisting of both redundant examples (removed via CNN) and ambiguous examples (removed via Tomek Links). The ratio for this dataset is now around 1:10., down from 1:100.\n",
    "\n",
    "Most of the majority class examples left belong are around the class boundary and the overlapping examples from the minority class.\n",
    "\n",
    "It might be interesting to explore larger seed samples from the majority class and different values of k used in the one-step CNN procedure."
   ]
  },
  {
   "cell_type": "markdown",
   "id": "incorporate-penny",
   "metadata": {},
   "source": [
    "### 3.2 Neighborhood Cleaning Rule for Undersampling\n",
    "\n",
    "The Neighborhood Cleaning Rule, or NCR for short, is an undersampling technique that combines both the Condensed Nearest Neighbor (CNN) Rule to remove redundant examples and the Edited Nearest Neighbors (ENN) Rule to remove noisy or ambiguous examples.\n",
    "\n",
    "Like One-Sided Selection (OSS), the CSS method is applied in a one-step manner, then the examples that are misclassified according to a KNN classifier are removed, as per the ENN rule. Unlike OSS, less of the redundant examples are removed and more attention is placed on “cleaning” those examples that are retained.\n",
    "\n",
    "The reason for this is to focus less on improving the balance of the class distribution and more on the quality (unambiguity) of the examples that are retained in the majority class.\n",
    "\n",
    "> … the quality of classification results does not necessarily depend on the size of the class. Therefore, we should consider, besides the class distribution, other characteristics of data, such as noise, that may hamper classification.\n",
    "\n",
    "The approach involves first selecting all examples from the minority class. Then all of the ambiguous examples in the majority class are identified using the ENN rule and removed. Finally, a one-step version of CNN is used where those remaining examples in the majority class that are misclassified against the store are removed, but only if the number of examples in the majority class is larger than half the size of the minority class.\n",
    "\n",
    "This technique can be implemented using the `NeighbourhoodCleaningRule` imbalanced-learn class. The number of neighbors used in the ENN and CNN steps can be specified via the n_neighbors argument that defaults to three. The threshold_cleaning controls whether or not the CNN is applied to a given class, which might be useful if there are multiple minority classes with similar sizes. This is kept at 0.5."
   ]
  },
  {
   "cell_type": "code",
   "execution_count": 57,
   "id": "living-editor",
   "metadata": {},
   "outputs": [
    {
     "name": "stdout",
     "output_type": "stream",
     "text": [
      "Counter({0: 9900, 1: 100})\n"
     ]
    }
   ],
   "source": [
    "# define dataset\n",
    "X, y = make_classification(n_samples=10000, n_features=2, n_redundant=0,\n",
    "    n_clusters_per_class=1, weights=[0.99], flip_y=0, random_state=1)\n",
    "# summarize class distribution\n",
    "counter = Counter(y)\n",
    "print(counter)"
   ]
  },
  {
   "cell_type": "markdown",
   "id": "apart-filter",
   "metadata": {},
   "source": [
    "#### define the undersampling method"
   ]
  },
  {
   "cell_type": "code",
   "execution_count": 58,
   "id": "finished-perfume",
   "metadata": {},
   "outputs": [],
   "source": [
    "from imblearn.under_sampling import NeighbourhoodCleaningRule\n",
    "\n",
    "undersample = NeighbourhoodCleaningRule(n_neighbors=3, threshold_cleaning=0.5)"
   ]
  },
  {
   "cell_type": "markdown",
   "id": "national-nancy",
   "metadata": {},
   "source": [
    "#### transform the dataset"
   ]
  },
  {
   "cell_type": "code",
   "execution_count": 59,
   "id": "silver-running",
   "metadata": {},
   "outputs": [],
   "source": [
    "X, y = undersample.fit_resample(X, y)"
   ]
  },
  {
   "cell_type": "markdown",
   "id": "diagnostic-cursor",
   "metadata": {},
   "source": [
    "#### summarize the new class distribution"
   ]
  },
  {
   "cell_type": "code",
   "execution_count": 60,
   "id": "micro-postage",
   "metadata": {},
   "outputs": [
    {
     "name": "stdout",
     "output_type": "stream",
     "text": [
      "Counter({0: 9786, 1: 100})\n"
     ]
    }
   ],
   "source": [
    "counter = Counter(y)\n",
    "print(counter)"
   ]
  },
  {
   "cell_type": "markdown",
   "id": "utility-stability",
   "metadata": {},
   "source": [
    "#### scatter plot of examples by class label"
   ]
  },
  {
   "cell_type": "code",
   "execution_count": 61,
   "id": "fifty-emergency",
   "metadata": {},
   "outputs": [
    {
     "data": {
      "image/png": "[encoded data removed]",
      "text/plain": [
       "<Figure size 432x288 with 1 Axes>"
      ]
     },
     "metadata": {
      "needs_background": "light"
     },
     "output_type": "display_data"
    }
   ],
   "source": [
    "for label, _ in counter.items():\n",
    "    row_ix = where(y == label)[0]\n",
    "    pyplot.scatter(X[row_ix, 0], X[row_ix, 1], label=str(label))\n",
    "pyplot.legend()\n",
    "pyplot.show()"
   ]
  },
  {
   "cell_type": "markdown",
   "id": "becoming-easter",
   "metadata": {},
   "source": [
    "We can see that only 114 examples from the majority class were removed.\n",
    "\n",
    "Given the limited and focused amount of undersampling performed, the change to the mass of majority examples is not obvious from the scatter plot that is created."
   ]
  },
  {
   "cell_type": "code",
   "execution_count": null,
   "id": "warming-promotion",
   "metadata": {},
   "outputs": [],
   "source": []
  }
 ],
 "metadata": {
  "kernelspec": {
   "display_name": "Python 3",
   "language": "python",
   "name": "python3"
  },
  "language_info": {
   "codemirror_mode": {
    "name": "ipython",
    "version": 3
   },
   "file_extension": ".py",
   "mimetype": "text/x-python",
   "name": "python",
   "nbconvert_exporter": "python",
   "pygments_lexer": "ipython3",
   "version": "3.7.9"
  }
 },
 "nbformat": 4,
 "nbformat_minor": 5
}
