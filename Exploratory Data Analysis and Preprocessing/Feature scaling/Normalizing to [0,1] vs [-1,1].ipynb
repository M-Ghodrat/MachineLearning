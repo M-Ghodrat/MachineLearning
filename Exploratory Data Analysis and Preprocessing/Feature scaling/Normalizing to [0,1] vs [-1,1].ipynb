{
 "cells": [
  {
   "cell_type": "markdown",
   "id": "judicial-audit",
   "metadata": {},
   "source": [
    "# Normalizing to [0,1] vs [-1,1]\n",
    "\n",
    "**Question:**\n",
    "\n",
    "I've been going through a few tutorials on using neural networks for key points detection. I've noticed that for the inputs (images) it's very common to divide by 255 (normalizing to [0,1] since values fall between 0 and 255). But for the targets (X/Y) coordinates I've noticed it's more common to normalize to [-1,1]. Any reason for this disparity.\n",
    "\n",
    "***Answer:***\n",
    "\n",
    "According to me, technically there should not be much of a difference on how you are normalising the values.\n",
    "\n",
    "But these things matter in ML techniques.\n",
    "\n",
    "Normalising the pixel range from (0 to 255 ) to (0 to 1) makes the convergence rate faster. Here you can do ranging between -1 and 1 as well. I have used this range in lot of problems. And there are no as such issues.\n",
    "\n",
    "But for the output it is little tricky. Using range 0 to 1 is not a better idea because of the activation function you are using. ReLU is max(0, x) which works better when you provide negative values as well. That is the whole point of relu. Also tanh ranges values between -1 and 1. The only choice you are left with is to use sigmoid function which does not perform that well compared to relu and tanh functions. The problem with sigmoid is of vanishing gradient and it is not zero centered which gives somewhat zig zagged gradient updates for the weights. "
   ]
  },
  {
   "cell_type": "code",
   "execution_count": null,
   "id": "dominican-power",
   "metadata": {},
   "outputs": [],
   "source": []
  }
 ],
 "metadata": {
  "kernelspec": {
   "display_name": "Python 3",
   "language": "python",
   "name": "python3"
  },
  "language_info": {
   "codemirror_mode": {
    "name": "ipython",
    "version": 3
   },
   "file_extension": ".py",
   "mimetype": "text/x-python",
   "name": "python",
   "nbconvert_exporter": "python",
   "pygments_lexer": "ipython3",
   "version": "3.7.9"
  }
 },
 "nbformat": 4,
 "nbformat_minor": 5
}
