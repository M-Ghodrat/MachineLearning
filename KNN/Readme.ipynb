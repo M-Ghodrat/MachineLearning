{
 "cells": [
  {
   "cell_type": "markdown",
   "id": "unlikely-norway",
   "metadata": {},
   "source": [
    "# KNN\n",
    "\n",
    "#### Features:\n",
    "\n",
    "- Not good when we do't have enough memory (e.g., big data)\n",
    "- Fast in training\n",
    "- Slow in prediction\n",
    "\n",
    "Two kind of errors:\n",
    "\n",
    "- **Bias:** Error with respect to true relationship\n",
    "- **Variance (Over fitting):** How consistence our model on different datasets\n",
    "\n",
    "### Confusion Matrix\n",
    "\n",
    "#### Evaluation:\n",
    "\n",
    "- Accuracy\n",
    "- percision\n",
    "- recall\n",
    "\n",
    "### F-score"
   ]
  },
  {
   "cell_type": "code",
   "execution_count": null,
   "id": "public-wallpaper",
   "metadata": {},
   "outputs": [],
   "source": []
  }
 ],
 "metadata": {
  "kernelspec": {
   "display_name": "Python 3",
   "language": "python",
   "name": "python3"
  },
  "language_info": {
   "codemirror_mode": {
    "name": "ipython",
    "version": 3
   },
   "file_extension": ".py",
   "mimetype": "text/x-python",
   "name": "python",
   "nbconvert_exporter": "python",
   "pygments_lexer": "ipython3",
   "version": "3.7.9"
  }
 },
 "nbformat": 4,
 "nbformat_minor": 5
}
