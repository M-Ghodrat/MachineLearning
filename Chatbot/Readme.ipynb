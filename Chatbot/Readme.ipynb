{
 "cells": [
  {
   "cell_type": "markdown",
   "id": "sophisticated-official",
   "metadata": {},
   "source": [
    "# Readme\n",
    "\n",
    "[A gentle journey from linear regression to neural networks](https://towardsdatascience.com/a-gentle-journey-from-linear-regression-to-neural-networks-68881590760e)"
   ]
  },
  {
   "cell_type": "markdown",
   "id": "organic-bench",
   "metadata": {},
   "source": [
    "[stemming vs lemmatization](https://www.datacamp.com/community/tutorials/stemming-lemmatization-python)"
   ]
  },
  {
   "cell_type": "code",
   "execution_count": null,
   "id": "collectible-xerox",
   "metadata": {},
   "outputs": [],
   "source": []
  }
 ],
 "metadata": {
  "kernelspec": {
   "display_name": "Python 3",
   "language": "python",
   "name": "python3"
  },
  "language_info": {
   "codemirror_mode": {
    "name": "ipython",
    "version": 3
   },
   "file_extension": ".py",
   "mimetype": "text/x-python",
   "name": "python",
   "nbconvert_exporter": "python",
   "pygments_lexer": "ipython3",
   "version": "3.7.9"
  }
 },
 "nbformat": 4,
 "nbformat_minor": 5
}
